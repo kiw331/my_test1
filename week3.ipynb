{
  "nbformat": 4,
  "nbformat_minor": 0,
  "metadata": {
    "colab": {
      "name": "week3.ipynb",
      "provenance": [],
      "collapsed_sections": [],
      "mount_file_id": "15t5Vib8EguaMB42sAsRkVpRgHx6MKCJx",
      "authorship_tag": "ABX9TyMT5X8PXuScIoRaEGjRpGxo",
      "include_colab_link": true
    },
    "kernelspec": {
      "name": "python3",
      "display_name": "Python 3"
    },
    "language_info": {
      "name": "python"
    }
  },
  "cells": [
    {
      "cell_type": "markdown",
      "metadata": {
        "id": "view-in-github",
        "colab_type": "text"
      },
      "source": [
        "<a href=\"https://colab.research.google.com/github/kiw331/my_test1/blob/master/week3.ipynb\" target=\"_parent\"><img src=\"https://colab.research.google.com/assets/colab-badge.svg\" alt=\"Open In Colab\"/></a>"
      ]
    },
    {
      "cell_type": "code",
      "execution_count": null,
      "metadata": {
        "colab": {
          "base_uri": "https://localhost:8080/"
        },
        "id": "EJTeqk2vSAzO",
        "outputId": "2ec2e093-7964-482e-bada-306bf57470db"
      },
      "outputs": [
        {
          "output_type": "execute_result",
          "data": {
            "text/plain": [
              "[-2, 4, -2]"
            ]
          },
          "metadata": {},
          "execution_count": 2
        }
      ],
      "source": [
        "a = (1,3,5)\n",
        "b = (2,4,6)\n",
        "\n",
        "def cross(a,b):\n",
        "  c=[a[1]*b[2] - a[2]*b[1],\n",
        "     a[2]*b[0] - a[0]*b[2],\n",
        "     a[0]*b[1] - a[1]*b[0]]\n",
        "  return c\n",
        "  \n",
        "cross(a,b)\n",
        "\n"
      ]
    },
    {
      "cell_type": "code",
      "source": [
        "import numpy as np\n",
        "print(np.cross(a,b))"
      ],
      "metadata": {
        "colab": {
          "base_uri": "https://localhost:8080/"
        },
        "id": "JiZaG8NaTwow",
        "outputId": "ab699f15-c3a7-4266-b460-db12659d0575"
      },
      "execution_count": null,
      "outputs": [
        {
          "output_type": "stream",
          "name": "stdout",
          "text": [
            "[-2  4 -2]\n"
          ]
        }
      ]
    }
  ]
}